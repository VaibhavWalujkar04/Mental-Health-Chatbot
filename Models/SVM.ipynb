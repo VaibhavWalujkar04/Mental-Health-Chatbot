# SVM
from sklearn.model_selection import learning_curve
import json
import pickle
import numpy as np
import matplotlib.pyplot as plt

from sklearn.feature_extraction.text import TfidfVectorizer
from sklearn.preprocessing import LabelEncoder
from sklearn.svm import SVC
from sklearn.model_selection import train_test_split
from sklearn.metrics import accuracy_score, confusion_matrix, ConfusionMatrixDisplay

# Loading data
with open('pandora_extended_dataset.json') as file:
    data = json.load(file)

texts = []
labels = []
for intent in data['intents']:
    if 'patterns' in intent and 'responses' in intent:
        for pattern in intent['patterns']:
            texts.append(pattern)
            labels.append(intent['tag'])

# Label encoding
label_encoder = LabelEncoder()
y = label_encoder.fit_transform(labels)

# Vectorization
vectorizer = TfidfVectorizer(max_features=2000)
X = vectorizer.fit_transform(texts)

# Splitting
X_train, X_test, y_train, y_test = train_test_split(
    X, y, test_size=0.2, random_state=42
)

# SVM
svm_model = SVC(kernel='linear', probability=True)
svm_model.fit(X_train, y_train)

y_pred = svm_model.predict(X_test)
accuracy = accuracy_score(y_test, y_pred)
print(f"Model accuracy on held-out data: {accuracy:.2%}")

# Saving model files
with open("svm_chatbot_model.pkl", "wb") as f:
    pickle.dump(svm_model, f)
with open("svm_vectorizer.pkl", "wb") as f:
    pickle.dump(vectorizer, f)
with open("svm_label_encoder.pkl", "wb") as f:
    pickle.dump(label_encoder, f)

def chatbot():
    print("Chatbot is ready! (type 'quit' to exit)")
    while True:
        user_input = input("You: ").strip()
        if user_input.lower() == 'quit':
            print("Chatbot: Goodbye!")
            break

        # Vectorize and predict
        vec = vectorizer.transform([user_input])
        pred = svm_model.predict(vec)[0]
        intent_tag = label_encoder.inverse_transform([pred])[0]

        # Pick a random response for the predicted intent
        for intent in data['intents']:
            if intent['tag'] == intent_tag:
                response = np.random.choice(intent['responses'])
                print(f"Chatbot: {response}")
                break

# Generate learning curve data
train_sizes, train_scores, test_scores = learning_curve(
    svm_model, X, y, cv=5, scoring='accuracy',
    train_sizes=np.linspace(0.1, 1.0, 10), n_jobs=-1
)

# Plot learning curve

# Mean and std for plotting
train_scores_mean = np.mean(train_scores, axis=1)
test_scores_mean = np.mean(test_scores, axis=1)

plt.figure(figsize=(10, 6))
plt.plot(train_sizes, train_scores_mean, 'o-', label="Training Accuracy")
plt.plot(train_sizes, test_scores_mean, 'o-', label="Validation Accuracy")
plt.title("Learning Curve: SVM Chatbot Classifier")
plt.xlabel("Training Set Size")
plt.ylabel("Accuracy")
plt.legend(loc="best")
plt.grid(True)
plt.tight_layout()
plt.show()
