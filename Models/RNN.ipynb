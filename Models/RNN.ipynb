# Using RNN

import json
import pickle
import numpy as np

from sklearn.preprocessing import LabelEncoder
from sklearn.model_selection import train_test_split
from tensorflow.keras.preprocessing.text import Tokenizer
from tensorflow.keras.preprocessing.sequence import pad_sequences
from tensorflow.keras.models import load_model, Sequential
from tensorflow.keras.layers import Embedding, LSTM, Dense, Dropout
from tensorflow.keras.utils import to_categorical


with open('pandora_extended_dataset.json') as f:
    data = json.load(f)

texts = []
labels = []

# Data cleaning
for intent in data['intents']:
    if 'patterns' in intent and 'responses' in intent:
        for p in intent['patterns']:
            texts.append(p)
            labels.append(intent['tag'])

label_encoder = LabelEncoder()
y_encoded = label_encoder.fit_transform(labels)
y_onehot  = to_categorical(y_encoded)


tokenizer = Tokenizer(num_words=2000, oov_token="<OOV>")
tokenizer.fit_on_texts(texts)
sequences = tokenizer.texts_to_sequences(texts)
max_len   = 25
X = pad_sequences(sequences, maxlen=max_len, padding='post', truncating='post')


X_train, X_test, y_train, y_test = train_test_split(
    X, y_onehot, test_size=0.2, random_state=42
)


model = Sequential([
    Embedding(input_dim=2000, output_dim=64, input_length=max_len),
    LSTM(64, return_sequences=False),
    Dropout(0.3),
    Dense(64, activation='relu'),
    Dropout(0.3),
    Dense(y_onehot.shape[1], activation='softmax')
])

model.compile(
    loss='categorical_crossentropy',
    optimizer='adam',
    metrics=['accuracy']
)


history = model.fit(
    X_train, y_train,
    epochs=200,
    batch_size=32,
    validation_split=0.1,
    verbose=1
)

# model evaluation
loss, acc = model.evaluate(X_test, y_test, verbose=0)
print(f"Test accuracy: {acc:.2%}")

# Saving model
model.save("rnn_chatbot_model.h5")
with open("rnn_tokenizer.pkl", "wb") as f:
    pickle.dump(tokenizer, f)
with open("rnn_label_encoder.pkl", "wb") as f:
    pickle.dump(label_encoder, f)


def chatbot():
    print("RNN Chatbot ready! (type 'quit' to exit)")
    while True:
        text = input("You: ").strip()
        if text.lower() == 'quit':
            print("Chatbot: Goodbye!")
            break

        seq = tokenizer.texts_to_sequences([text])
        pad = pad_sequences(seq, maxlen=max_len, padding='post', truncating='post')
        pred = model.predict(pad, verbose=0)
        tag  = label_encoder.inverse_transform([np.argmax(pred)])[0]

        for intent in data['intents']:
            if intent['tag'] == tag:
                reply = np.random.choice(intent['responses'])
                print(f"Chatbot: {reply}")
                break

#RNN curve

import matplotlib.pyplot as plt

history1 = history.history
print(history1.keys())

# 1) Accuracy Curves
plt.figure(figsize=(8,4))
plt.plot(history.history['accuracy'],      label='Train Acc', linewidth=2)
plt.plot(history.history['val_accuracy'],  label='Val   Acc', linestyle='--', linewidth=2)
plt.title('Training vs. Validation Accuracy', fontsize=12)
plt.xlabel('Epoch')
plt.ylabel('Accuracy')
plt.legend()
plt.grid(True)
plt.tight_layout()
plt.show()

# 2) Loss Curves
plt.figure(figsize=(8,4))
plt.plot(history.history['loss'],      label='Train Loss', linewidth=2)
plt.plot(history.history['val_loss'],  label='Val   Loss', linestyle='--', linewidth=2)
plt.title('Training vs. Validation Loss', fontsize=12)
plt.xlabel('Epoch')
plt.ylabel('Loss')
plt.legend()
plt.grid(True)
plt.tight_layout()
plt.show()
