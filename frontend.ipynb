# frontend with history
%%writefile app.py
import json
import numpy as np
import pickle
import streamlit as st
import tensorflow as tf
from tensorflow.keras.preprocessing.sequence import pad_sequences
from tensorflow.keras.models import load_model
from tensorflow.keras.preprocessing.text import tokenizer_from_json

# Load tokenizer
with open("pandora_tokenizer.json") as f:
    tokenizer = tokenizer_from_json(f.read())

# Load label encoder
with open("pandora_label_encoder.pkl", "rb") as f:
    label_encoder = pickle.load(f)

# Load model
model = load_model("pandora_chatbot_model.h5")

# Load intents
with open("pandora_extended_dataset.json") as f:
    data = json.load(f)

cleaned_intents = [intent for intent in data['intents'] if 'patterns' in intent and 'responses' in intent]

# Response generator
def get_response(user_input):
    input_seq = tokenizer.texts_to_sequences([user_input])
    padded_input = pad_sequences(input_seq, truncating='post', padding='post', maxlen=25)
    prediction = model.predict(padded_input)[0]
    tag = label_encoder.inverse_transform([np.argmax(prediction)])[0]

    for intent in cleaned_intents:
        if intent['tag'] == tag:
            return np.random.choice(intent['responses'])
    return "I'm here to listen. Could you tell me more?"

# Streamlit UI
st.set_page_config(page_title="Pandora - Mental Health Chatbot", page_icon="💬")
st.title("💬 Pandora: Your Mental Health Chatbot")
st.markdown("Hi, I'm **Pandora**. I'm here to talk, support, and help you through what you're feeling ")

# Initialize session state
if "chat_history" not in st.session_state:
    st.session_state.chat_history = []

# Input
user_input = st.text_input("You:", placeholder="Type something like 'I feel sad' or 'I'm anxious today'...")

if user_input:
    response = get_response(user_input)
    st.session_state.chat_history.append(("You", user_input))
    st.session_state.chat_history.append(("Pandora", response))

# Display chat history
for sender, message in st.session_state.chat_history:
    if sender == "You":
        st.markdown(f"**You:** {message}")
    else:
        st.markdown(f"**Pandora:** {message}")
