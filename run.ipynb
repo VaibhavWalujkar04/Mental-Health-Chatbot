# To run the app
import os
import time
from pyngrok import ngrok

!pkill streamlit
ngrok.kill()

os.system("streamlit run app.py &")

time.sleep(8)

public_url = ngrok.connect(addr="http://localhost:8501", proto="http")
print(f"🚀 Your Streamlit app is live at: {public_url}")
